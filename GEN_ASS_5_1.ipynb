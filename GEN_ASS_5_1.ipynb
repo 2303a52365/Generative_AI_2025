{
  "nbformat": 4,
  "nbformat_minor": 0,
  "metadata": {
    "colab": {
      "provenance": [],
      "authorship_tag": "ABX9TyMZ6rAQdnyLsNWIulfcM9C4",
      "include_colab_link": true
    },
    "kernelspec": {
      "name": "python3",
      "display_name": "Python 3"
    },
    "language_info": {
      "name": "python"
    }
  },
  "cells": [
    {
      "cell_type": "markdown",
      "metadata": {
        "id": "view-in-github",
        "colab_type": "text"
      },
      "source": [
        "<a href=\"https://colab.research.google.com/github/2303a52365/Generative_AI_2025/blob/main/GEN_ASS_5_1.ipynb\" target=\"_parent\"><img src=\"https://colab.research.google.com/assets/colab-badge.svg\" alt=\"Open In Colab\"/></a>"
      ]
    },
    {
      "cell_type": "code",
      "execution_count": 1,
      "metadata": {
        "colab": {
          "base_uri": "https://localhost:8080/"
        },
        "id": "fO0I9W6syyoZ",
        "outputId": "81e1902b-9e6b-4ff2-967f-f02c0db75260"
      },
      "outputs": [
        {
          "output_type": "stream",
          "name": "stdout",
          "text": [
            "Trained Weights (Input to Hidden): [[0.38875089 0.67341444 0.56709545 0.02257878]\n",
            " [0.90425772 0.00421632 0.57509023 0.05651305]]\n",
            "Trained Bias (Hidden): [0.41587621 0.071443   0.80319485 0.82403463]\n",
            "Trained Weights (Hidden to Output): [[ 0.04840583]\n",
            " [ 0.08427874]\n",
            " [ 0.14012254]\n",
            " [-0.26239582]]\n",
            "Trained Bias (Output): [0.35094763]\n",
            "Training MSE: 7.4346865718422996e-06\n",
            "Testing MSE: 9.402674358234645e-07\n",
            "Enter x1, x2: 2 6\n",
            "Predicted Output: 0.40491301578512884\n"
          ]
        }
      ],
      "source": [
        "import numpy as np\n",
        "def sigmoid(x):\n",
        "    return 1 / (1 + np.exp(-x))\n",
        "def sigmoid_derivative(x):\n",
        "    return x * (1 - x)\n",
        "def predict(X, weights_input_hidden, bias_hidden, weights_hidden_output, bias_output):\n",
        "    hidden_layer_activation = np.dot(X, weights_input_hidden) + bias_hidden\n",
        "    hidden_layer_output = sigmoid(hidden_layer_activation)\n",
        "    output_layer_activation = np.dot(hidden_layer_output, weights_hidden_output) + bias_output\n",
        "    return output_layer_activation, hidden_layer_output\n",
        "def mean_squared_error(y_true, y_pred):\n",
        "    return np.mean((y_true - y_pred) ** 2)\n",
        "def train(X, y, hidden_neurons=4, learning_rate=0.01, epochs=10000):\n",
        "    input_neurons = X.shape[1]\n",
        "    output_neurons = 1\n",
        "    weights_input_hidden = np.random.rand(input_neurons, hidden_neurons)\n",
        "    bias_hidden = np.random.rand(hidden_neurons)\n",
        "    weights_hidden_output = np.random.rand(hidden_neurons, output_neurons)\n",
        "    bias_output = np.random.rand(output_neurons)\n",
        "    for _ in range(epochs):\n",
        "        hidden_layer_activation = np.dot(X, weights_input_hidden) + bias_hidden\n",
        "        hidden_layer_output = sigmoid(hidden_layer_activation)\n",
        "        output_layer_activation = np.dot(hidden_layer_output, weights_hidden_output) + bias_output\n",
        "        y_pred = output_layer_activation\n",
        "        error = y - y_pred\n",
        "        d_output = error\n",
        "        d_hidden_layer = np.dot(d_output, weights_hidden_output.T) * sigmoid_derivative(hidden_layer_output)\n",
        "        weights_hidden_output += learning_rate * np.dot(hidden_layer_output.T, d_output)\n",
        "        bias_output += learning_rate * np.sum(d_output, axis=0)\n",
        "        weights_input_hidden += learning_rate * np.dot(X.T, d_hidden_layer)\n",
        "        bias_hidden += learning_rate * np.sum(d_hidden_layer, axis=0)\n",
        "    return weights_input_hidden, bias_hidden, weights_hidden_output, bias_output\n",
        "X_train = np.array([\n",
        "    [0.1, 0.2],\n",
        "    [0.2, 0.3],\n",
        "    [0.3, 0.4],\n",
        "    [0.6, 0.7],\n",
        "    [0.7, 0.8],\n",
        "    [0.8, 0.9]\n",
        "])\n",
        "y_train = np.array([[0.3432], [0.3490], [0.3548], [0.3720], [0.3776], [0.3832]])\n",
        "weights_input_hidden, bias_hidden, weights_hidden_output, bias_output = train(X_train, y_train)\n",
        "X_test = np.array([\n",
        "    [0.4, 0.5],\n",
        "    [0.5, 0.6]\n",
        "])\n",
        "y_test = np.array([[0.3606], [0.3663]])\n",
        "y_train_pred, _ = predict(X_train, weights_input_hidden, bias_hidden, weights_hidden_output, bias_output)\n",
        "y_test_pred, _ = predict(X_test, weights_input_hidden, bias_hidden, weights_hidden_output, bias_output)\n",
        "train_mse = mean_squared_error(y_train, y_train_pred)\n",
        "test_mse = mean_squared_error(y_test, y_test_pred)\n",
        "print(f\"Trained Weights (Input to Hidden): {weights_input_hidden}\")\n",
        "print(f\"Trained Bias (Hidden): {bias_hidden}\")\n",
        "print(f\"Trained Weights (Hidden to Output): {weights_hidden_output}\")\n",
        "print(f\"Trained Bias (Output): {bias_output}\")\n",
        "print(f\"Training MSE: {train_mse}\")\n",
        "print(f\"Testing MSE: {test_mse}\")\n",
        "x1, x2 = map(float, input(\"Enter x1, x2: \").split())\n",
        "user_input = np.array([[x1, x2]])\n",
        "prediction, _ = predict(user_input, weights_input_hidden, bias_hidden, weights_hidden_output, bias_output)\n",
        "print(f\"Predicted Output: {prediction[0][0]}\")"
      ]
    }
  ]
}