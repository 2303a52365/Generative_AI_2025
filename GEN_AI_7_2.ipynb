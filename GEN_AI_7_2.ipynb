{
  "nbformat": 4,
  "nbformat_minor": 0,
  "metadata": {
    "colab": {
      "provenance": [],
      "authorship_tag": "ABX9TyPDHhD5SW8ExHi1ef9t3FEM",
      "include_colab_link": true
    },
    "kernelspec": {
      "name": "python3",
      "display_name": "Python 3"
    },
    "language_info": {
      "name": "python"
    }
  },
  "cells": [
    {
      "cell_type": "markdown",
      "metadata": {
        "id": "view-in-github",
        "colab_type": "text"
      },
      "source": [
        "<a href=\"https://colab.research.google.com/github/2303a52365/Generative_AI_2025/blob/main/GEN_AI_7_2.ipynb\" target=\"_parent\"><img src=\"https://colab.research.google.com/assets/colab-badge.svg\" alt=\"Open In Colab\"/></a>"
      ]
    },
    {
      "cell_type": "code",
      "execution_count": null,
      "metadata": {
        "colab": {
          "base_uri": "https://localhost:8080/"
        },
        "id": "JTEhZK_PX3b2",
        "outputId": "f6aa8478-157c-47a5-b52b-085b3f1a0cf3"
      },
      "outputs": [
        {
          "output_type": "stream",
          "name": "stdout",
          "text": [
            "✅ Model saved as 'diabetes_ann_model.keras\n"
          ]
        }
      ],
      "source": [
        "import pandas as pd\n",
        "import numpy as np\n",
        "from sklearn.model_selection import train_test_split\n",
        "from sklearn.preprocessing import StandardScaler\n",
        "from tensorflow.keras.models import Sequential\n",
        "from tensorflow.keras.layers import Input, Dense\n",
        "from sklearn.metrics import accuracy_score, confusion_matrix, classification_report\n",
        "\n",
        "# Load Dataset\n",
        "url = \"https://raw.githubusercontent.com/jbrownlee/Datasets/master/pima-indians-diabetes.data.csv\"\n",
        "columns = ['Pregnancies', 'Glucose', 'BloodPressure', 'SkinThickness', 'Insulin',\n",
        "           'BMI', 'DiabetesPedigreeFunction', 'Age', 'Outcome']\n",
        "df = pd.read_csv(url, names=columns)\n",
        "\n",
        "# Features & Labels\n",
        "X = df.drop('Outcome', axis=1)\n",
        "y = df['Outcome']\n",
        "\n",
        "# Normalize\n",
        "scaler = StandardScaler()\n",
        "X_scaled = scaler.fit_transform(X)\n",
        "\n",
        "# Train-test split\n",
        "X_train, X_test, y_train, y_test = train_test_split(X_scaled, y, test_size=0.2, random_state=42)\n",
        "\n",
        "# Build the model\n",
        "model = Sequential([\n",
        "    Input(shape=(8,)),\n",
        "    Dense(10, activation='tanh'), #Fully connected layers.\n",
        "    Dense(15, activation='tanh'),\n",
        "    Dense(20, activation='tanh'),\n",
        "    Dense(10, activation='tanh'),\n",
        "    Dense(5, activation='tanh'),\n",
        "    Dense(1, activation='sigmoid')\n",
        "])\n",
        "# Compile\n",
        "model.compile(optimizer='adam', loss='binary_crossentropy', metrics=['accuracy'])\n",
        "\n",
        "# Train\n",
        "model.fit(X_train, y_train, epochs=250, batch_size=32, verbose=0)\n",
        "\n",
        "# Save model\n",
        "model.save(\"diabetes_ann_model.keras\")\n",
        "print(\"✅ Model saved as 'diabetes_ann_model.keras\")"
      ]
    },
    {
      "cell_type": "code",
      "source": [
        "#Predict\n",
        "y_pred_prob = model.predict(X_test)\n",
        "y_pred = (y_pred_prob > 0.5).astype(int)\n",
        "\n",
        "# Accuracy\n",
        "train_accuracy = model.evaluate(X_train, y_train, verbose=0)[1]\n",
        "test_accuracy = accuracy_score(y_test, y_pred)\n",
        "\n",
        "print(f\"✅ Training Accuracy: {train_accuracy:.4f}\")\n",
        "print(f\"✅ Testing Accuracy: {test_accuracy:.4f}\")\n",
        "\n",
        "# Confusion Matrix\n",
        "cm = confusion_matrix(y_test, y_pred)\n",
        "print(\"\\n🧾 Confusion Matrix:\")\n",
        "print(cm)\n",
        "\n",
        "# Classification Report\n",
        "report = classification_report(y_test, y_pred, digits=4)\n",
        "print(\"\\n📊 Classification Report:\")\n",
        "print(report)"
      ],
      "metadata": {
        "colab": {
          "base_uri": "https://localhost:8080/"
        },
        "id": "sALxMLmxYeZM",
        "outputId": "af13cd1f-7a0c-4e12-9615-14c46288e2ff"
      },
      "execution_count": null,
      "outputs": [
        {
          "output_type": "stream",
          "name": "stdout",
          "text": [
            "\u001b[1m5/5\u001b[0m \u001b[32m━━━━━━━━━━━━━━━━━━━━\u001b[0m\u001b[37m\u001b[0m \u001b[1m0s\u001b[0m 6ms/step \n",
            "✅ Training Accuracy: 0.8827\n",
            "✅ Testing Accuracy: 0.7532\n",
            "\n",
            "🧾 Confusion Matrix:\n",
            "[[80 19]\n",
            " [19 36]]\n",
            "\n",
            "📊 Classification Report:\n",
            "              precision    recall  f1-score   support\n",
            "\n",
            "           0     0.8081    0.8081    0.8081        99\n",
            "           1     0.6545    0.6545    0.6545        55\n",
            "\n",
            "    accuracy                         0.7532       154\n",
            "   macro avg     0.7313    0.7313    0.7313       154\n",
            "weighted avg     0.7532    0.7532    0.7532       154\n",
            "\n"
          ]
        }
      ]
    },
    {
      "cell_type": "code",
      "source": [
        "from tensorflow.keras.models import load_model\n",
        "\n",
        "# Load saved model\n",
        "deployed_model = load_model(\"diabetes_ann_model.keras\")\n",
        "deployed_model.compile(optimizer='adam', loss='binary_crossentropy', metrics=['accuracy'])\n",
        "\n",
        "# Sample input as DataFrame to match scaler\n",
        "sample_input = pd.DataFrame([[2, 120, 70, 30, 0, 25.0, 0.5, 32]],\n",
        "                            columns=['Pregnancies', 'Glucose', 'BloodPressure', 'SkinThickness',\n",
        "                                     'Insulin', 'BMI', 'DiabetesPedigreeFunction', 'Age'])\n",
        "sample_scaled = scaler.transform(sample_input)\n",
        "\n",
        "# Predict\n",
        "prediction = deployed_model.predict(sample_scaled)\n",
        "result = \"Diabetic\" if prediction[0][0] > 0.5 else \"Not Diabetic\"\n",
        "print(f\" Prediction Result: {result}\")"
      ],
      "metadata": {
        "colab": {
          "base_uri": "https://localhost:8080/"
        },
        "id": "kkNR08h4YsIn",
        "outputId": "cb029b82-add3-4cf2-96f7-5e26b65c6c79"
      },
      "execution_count": null,
      "outputs": [
        {
          "output_type": "stream",
          "name": "stdout",
          "text": [
            "\u001b[1m1/1\u001b[0m \u001b[32m━━━━━━━━━━━━━━━━━━━━\u001b[0m\u001b[37m\u001b[0m \u001b[1m0s\u001b[0m 134ms/step\n",
            " Prediction Result: Not Diabetic\n"
          ]
        }
      ]
    }
  ]
}